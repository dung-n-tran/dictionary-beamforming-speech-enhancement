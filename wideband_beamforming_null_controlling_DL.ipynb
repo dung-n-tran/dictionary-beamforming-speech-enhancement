{
 "cells": [
  {
   "cell_type": "code",
   "execution_count": 1,
   "metadata": {},
   "outputs": [],
   "source": [
    "import numpy as np\n",
    "import matplotlib.pyplot as plt\n",
    "from seaborn import set_palette\n",
    "import pickle\n",
    "flatui = [\"#3498db\", \"#9b59b6\", \"#95a5a6\", \"#e74c3c\", \"#34495e\", \"#2ecc71\"]\n",
    "set_palette(flatui)\n",
    "%matplotlib inline\n",
    "%config InlineBackend.figure_format = \"retina\"\n",
    "plt.rcParams['axes.spines.top'] = False\n",
    "plt.rcParams['axes.spines.right'] = False\n",
    "plt.rcParams['axes.grid'] = True\n",
    "plt.rcParams['grid.color'] = 'gray'\n",
    "plt.rcParams['grid.linewidth'] = 0.25\n",
    "plt.rcParams['grid.alpha'] = 0.2\n",
    "plt.style.use('seaborn-talk')\n",
    "\n",
    "from scipy.signal import stft, istft, get_window\n",
    "from IPython.display import Audio\n",
    "from tqdm import tnrange, tqdm_notebook\n",
    "from dlbeamformer_utilities import compute_steering_vectors_single_frequency,\\\n",
    "    compute_steering_vectors, simulate_multichannel_tf, compute_sinr,\\\n",
    "    compute_mvdr_tf_beamformers, check_distortless_constraint,\\\n",
    "    compute_mvndr_tf_beamformers, compute_lcmv_tf_beamformers,\\\n",
    "    compute_null_controlling_tf_beamformers\n",
    "from dlbeamformers import BaseDLBeamformer, DLBeamformer\n",
    "random_seed = 0"
   ]
  },
  {
   "cell_type": "code",
   "execution_count": 2,
   "metadata": {},
   "outputs": [],
   "source": [
    "import os\n",
    "from os import listdir\n",
    "from os.path import join\n",
    "datapath = \"CMU_ARCTIC/cmu_us_bdl_arctic/wav\"\n",
    "train_data_folder = join(datapath, 'train')\n",
    "test_data_folder = join(datapath, 'test')\n",
    "\n",
    "from scipy.io import wavfile\n",
    "from IPython.display import Audio\n",
    "train_data = []\n",
    "test_data = []\n",
    "train_data_filenames = [f for f in listdir(train_data_folder) if os.path.isfile( join(train_data_folder, f))]\n",
    "test_data_filenames = [f for f in listdir(test_data_folder) if os.path.isfile( join(test_data_folder, f))]\n",
    "\n",
    "for i_train_data_filename in range(len(train_data_filenames)):\n",
    "    f_path = join(train_data_folder, train_data_filenames[i_train_data_filename])\n",
    "    if f_path.endswith('.wav'):\n",
    "        sampling_frequency, train_data_example = wavfile.read(f_path)\n",
    "    train_data.append(train_data_example)\n",
    "    \n",
    "for i_test_data_filename in range(len(test_data_filenames)):\n",
    "    f_path = join(test_data_folder, test_data_filenames[i_test_data_filename])\n",
    "    if f_path.endswith('.wav'):\n",
    "        sampling_frequency, test_data_example = wavfile.read(f_path)\n",
    "    test_data.append(test_data_example)"
   ]
  },
  {
   "cell_type": "code",
   "execution_count": 3,
   "metadata": {},
   "outputs": [
    {
     "data": {
      "text/plain": [
       "(3, 9)"
      ]
     },
     "execution_count": 3,
     "metadata": {},
     "output_type": "execute_result"
    }
   ],
   "source": [
    "# Microphone positions\n",
    "pos_x = np.arange(-0.8, 0.8+1e-6, 0.2)\n",
    "n_mics = len(pos_x)\n",
    "pos_y = np.zeros(n_mics)\n",
    "pos_z = np.zeros(n_mics)\n",
    "array_geometry = np.row_stack((pos_x, pos_y, pos_z))\n",
    "array_geometry.shape"
   ]
  },
  {
   "cell_type": "code",
   "execution_count": 4,
   "metadata": {},
   "outputs": [],
   "source": [
    "from configparser import ConfigParser\n",
    "config = ConfigParser()\n",
    "config.read('config.INI');\n",
    "params = config['PARAMS']\n",
    "sampling_frequency = int(params['sampling_frequency'])\n",
    "n_samples_per_frame = int(params['n_samples_per_frame'])\n",
    "n_fft_bins = (int) (n_samples_per_frame / 2) \n",
    "hop_size = (int) (n_samples_per_frame / 2)\n",
    "stft_window_name = params['stft_window_name']\n",
    "stft_window = get_window(\"hann\", n_samples_per_frame)\n",
    "stft_params = {\n",
    "    \"n_samples_per_frame\": n_samples_per_frame,\n",
    "    \"n_fft_bins\": n_fft_bins,\n",
    "    \"hop_size\": hop_size,\n",
    "    \"window\": stft_window\n",
    "}"
   ]
  },
  {
   "cell_type": "code",
   "execution_count": null,
   "metadata": {},
   "outputs": [],
   "source": [
    "# Source angles\n",
    "theta_s = np.array([-10]) # [degree]\n",
    "phi_s = np.array([0]) # [degree]\n",
    "\n",
    "# Angle grids\n",
    "theta_grid = np.arange(-90, 90+1e-6, 0.1) # [degree]\n",
    "phi_grid = np.array([0]) # [degree]\n",
    "\n",
    "# Steering vectors\n",
    "steering_vectors = compute_steering_vectors(array_geometry, sampling_frequency=sampling_frequency, \n",
    "                                    n_fft=n_fft_bins, theta_grid=theta_grid, phi_grid=phi_grid)\n",
    "source_steering_vectors = compute_steering_vectors(array_geometry, sampling_frequency, n_fft_bins, \n",
    "    np.array([theta_s[0]]), np.array([phi_s[0]]))\n",
    "vs = compute_steering_vectors(array_geometry, sampling_frequency, n_fft_bins, \n",
    "    theta_s, phi_s)"
   ]
  },
  {
   "cell_type": "markdown",
   "metadata": {},
   "source": [
    "### DLBeamformer"
   ]
  },
  {
   "cell_type": "code",
   "execution_count": null,
   "metadata": {},
   "outputs": [],
   "source": [
    "source_angles = [\n",
    "    {\n",
    "        \"theta\": np.array([-10]),\n",
    "        \"phi\": np.array([0])\n",
    "    }\n",
    "]\n",
    "angle_grid = {\n",
    "    \"theta\": theta_grid,\n",
    "    \"phi\": phi_grid\n",
    "}\n",
    "dlbeamformer = DLBeamformer(array_geometry, sampling_frequency, source_angles,\n",
    "                           stft_params, angle_grid)\n",
    "assert np.allclose(vs, dlbeamformer.source_steering_vectors[0])\n",
    "assert np.allclose(steering_vectors, dlbeamformer.steering_vectors)"
   ]
  },
  {
   "cell_type": "code",
   "execution_count": null,
   "metadata": {},
   "outputs": [
    {
     "data": {
      "text/plain": [
       "array([-2, -1,  1,  2,  3,  4])"
      ]
     },
     "execution_count": 7,
     "metadata": {},
     "output_type": "execute_result"
    }
   ],
   "source": [
    "np.unique(np.array([1, 2, 3, 3, 4, 3, -1, -2]))"
   ]
  },
  {
   "cell_type": "markdown",
   "metadata": {},
   "source": [
    "### Training data for MVDR baseline dictionary"
   ]
  },
  {
   "cell_type": "code",
   "execution_count": null,
   "metadata": {},
   "outputs": [
    {
     "data": {
      "application/vnd.jupyter.widget-view+json": {
       "model_id": "6923cde5a5cd4402b582b18c3258a597",
       "version_major": 2,
       "version_minor": 0
      },
      "text/plain": [
       "HBox(children=(IntProgress(value=0, description='Interference number', max=2, style=ProgressStyle(description_…"
      ]
     },
     "metadata": {},
     "output_type": "display_data"
    },
    {
     "data": {
      "application/vnd.jupyter.widget-view+json": {
       "model_id": "2a1a08083dba470395310745b7949592",
       "version_major": 2,
       "version_minor": 0
      },
      "text/plain": [
       "HBox(children=(IntProgress(value=0, description='Parameter set', max=6, style=ProgressStyle(description_width=…"
      ]
     },
     "metadata": {},
     "output_type": "display_data"
    },
    {
     "data": {
      "application/vnd.jupyter.widget-view+json": {
       "model_id": "853d000b3bfe4ba8b58320b1509e80d9",
       "version_major": 2,
       "version_minor": 0
      },
      "text/plain": [
       "HBox(children=(IntProgress(value=0, description='Parameter set', max=36, style=ProgressStyle(description_width…"
      ]
     },
     "metadata": {},
     "output_type": "display_data"
    },
    {
     "name": "stdout",
     "output_type": "stream",
     "text": [
      "\n"
     ]
    }
   ],
   "source": [
    "np.random.seed(random_seed)\n",
    "n_interference_list = [1, 2]\n",
    "\n",
    "azimuth_step = 30\n",
    "training_thetas = list(np.arange(-90, 90, azimuth_step))\n",
    "training_phis = [0]\n",
    "\n",
    "import itertools\n",
    "training_interference_data = []\n",
    "training_noise_interference_data = []\n",
    "np.random.seed(random_seed)\n",
    "\n",
    "for i_n_interference in tqdm_notebook(range(len(n_interference_list)), desc=\"Interference number\"):\n",
    "    n_interferences = n_interference_list[i_n_interference]\n",
    "    interferences_params = []\n",
    "    for i_interference in range(n_interferences):\n",
    "        interference_params = list(itertools.product(*[training_thetas, training_phis]))\n",
    "        interferences_params.append(interference_params)\n",
    "    interferences_param_sets = list(itertools.product(*interferences_params))\n",
    "\n",
    "    for i_param_set in tqdm_notebook(range(len(interferences_param_sets)), desc=\"Parameter set\"):    \n",
    "        param_set = interferences_param_sets[i_param_set]\n",
    "        n_training_samples = 1\n",
    "        for i_training_sample in range(n_training_samples):\n",
    "            interference_signals = []\n",
    "            for i_interference in range(len(param_set)):\n",
    "                interference_signal = train_data[np.random.choice(len(train_data))]\n",
    "                interference_signals.append(interference_signal)                \n",
    "            interference_n_samples = min([len(signal) for signal in interference_signals])\n",
    "            \n",
    "            interference_tf_multichannel_list = []\n",
    "            for i_interference in range(len(param_set)):\n",
    "                interference_signals[i_interference] = (interference_signals[i_interference])[0:interference_n_samples]\n",
    "                interference_theta, interference_phi = param_set[i_interference]\n",
    "                interference_theta += 0*np.random.uniform()\n",
    "                interference_tf_multichannel = simulate_multichannel_tf(array_geometry, interference_signal, \n",
    "                        np.array([interference_theta]), np.array([interference_phi]),\n",
    "                        sampling_frequency, stft_params)\n",
    "                interference_tf_multichannel_list.append(interference_tf_multichannel)\n",
    "            \n",
    "            training_interference_data.append(sum(interference_tf_multichannel_list))\n",
    "# training_tf_filename = \"CMU_ARCTIC_tf_training_data_azimuth_step_{}_trainning_samples_{}.pkl\".format(\n",
    "#     azimuth_step, n_training_samples\n",
    "# )\n",
    "# training_tf_path = \"/data/dung/dictionary-beamforming-speech-enhancement/tf_training_data\"\n",
    "# training_tf_filepath = os.path.join(training_tf_path, training_tf_filename)\n",
    "# with open(training_tf_filepath, 'wb') as output:\n",
    "#     pickle.dump(training_interference_data, output, pickle.HIGHEST_PROTOCOL)            "
   ]
  },
  {
   "cell_type": "markdown",
   "metadata": {},
   "source": [
    "### Training data for null-controlling DL Beamformers"
   ]
  },
  {
   "cell_type": "code",
   "execution_count": null,
   "metadata": {},
   "outputs": [
    {
     "data": {
      "application/vnd.jupyter.widget-view+json": {
       "model_id": "0af0ae26b7ba49f8aa418495ac2e4840",
       "version_major": 2,
       "version_minor": 0
      },
      "text/plain": [
       "HBox(children=(IntProgress(value=0, description='Interference number', max=2, style=ProgressStyle(description_…"
      ]
     },
     "metadata": {},
     "output_type": "display_data"
    },
    {
     "data": {
      "application/vnd.jupyter.widget-view+json": {
       "model_id": "989f5a01a92248ec8fae69ccf2f06501",
       "version_major": 2,
       "version_minor": 0
      },
      "text/plain": [
       "HBox(children=(IntProgress(value=0, description='Parameter set', max=6, style=ProgressStyle(description_width=…"
      ]
     },
     "metadata": {},
     "output_type": "display_data"
    },
    {
     "data": {
      "application/vnd.jupyter.widget-view+json": {
       "model_id": "223c12a9477341d980562701124267c1",
       "version_major": 2,
       "version_minor": 0
      },
      "text/plain": [
       "HBox(children=(IntProgress(value=0, description='Parameter set', max=36, style=ProgressStyle(description_width…"
      ]
     },
     "metadata": {},
     "output_type": "display_data"
    },
    {
     "name": "stdout",
     "output_type": "stream",
     "text": [
      "\n"
     ]
    }
   ],
   "source": [
    "np.random.seed(random_seed)\n",
    "n_interference_list = [1, 2]\n",
    "\n",
    "azimuth_step = 30\n",
    "training_thetas = list(np.arange(-90, 90, azimuth_step))\n",
    "training_phis = [0]\n",
    "\n",
    "import itertools\n",
    "nc_training_interference_data = []\n",
    "training_noise_interference_data = []\n",
    "np.random.seed(random_seed)\n",
    "\n",
    "for i_n_interference in tqdm_notebook(range(len(n_interference_list)), desc=\"Interference number\"):\n",
    "    n_interferences = n_interference_list[i_n_interference]\n",
    "    interferences_params = []\n",
    "    for i_interference in range(n_interferences):\n",
    "        interference_params = list(itertools.product(*[training_thetas, training_phis]))\n",
    "        interferences_params.append(interference_params)\n",
    "    interferences_param_sets = list(itertools.product(*interferences_params))\n",
    "\n",
    "    for i_param_set in tqdm_notebook(range(len(interferences_param_sets)), desc=\"Parameter set\"):    \n",
    "        param_set = interferences_param_sets[i_param_set]\n",
    "        training_param_dict = {\n",
    "            \"theta\": np.asarray(param_set).transpose()[0],\n",
    "            \"phi\": np.asarray(param_set).transpose()[1]\n",
    "            }\n",
    "        n_training_samples = 100\n",
    "        for i_training_sample in range(n_training_samples):\n",
    "            interference_signals = []\n",
    "            for i_interference in range(len(param_set)):\n",
    "                interference_signal = train_data[np.random.choice(len(train_data))]\n",
    "                interference_signals.append(interference_signal)                \n",
    "            interference_n_samples = min([len(signal) for signal in interference_signals])\n",
    "            \n",
    "            interference_tf_multichannel_list = []\n",
    "            for i_interference in range(len(param_set)):\n",
    "                interference_signals[i_interference] = (interference_signals[i_interference])[0:interference_n_samples]\n",
    "                interference_theta, interference_phi = param_set[i_interference]\n",
    "                interference_theta += 0*np.random.uniform()\n",
    "                interference_tf_multichannel = simulate_multichannel_tf(array_geometry, interference_signal, \n",
    "                        np.array([interference_theta]), np.array([interference_phi]),\n",
    "                        sampling_frequency, stft_params)\n",
    "                interference_tf_multichannel_list.append(interference_tf_multichannel)\n",
    "            \n",
    "            nc_training_interference_data.append((sum(interference_tf_multichannel_list), training_param_dict))"
   ]
  },
  {
   "cell_type": "code",
   "execution_count": null,
   "metadata": {},
   "outputs": [
    {
     "name": "stderr",
     "output_type": "stream",
     "text": [
      "Training sample:  53%|█████▎    | 2208/4200 [04:37<04:10,  7.95it/s]"
     ]
    }
   ],
   "source": [
    "l = []\n",
    "desired_null_width = 5\n",
    "for th in nc_training_interference_data[-1][1][\"theta\"]:\n",
    "#     th = training_interference_data[30][1][\"theta\"][i]\n",
    "    l.append(np.arange(th-desired_null_width/2, th+desired_null_width/2, 0.1))\n",
    "assert np.allclose(np.concatenate(l), \n",
    "                   dlbeamformer._compute_null_angle_ranges(\n",
    "                   nc_training_interference_data[-1][1][\"theta\"],\n",
    "                   desired_null_width))\n",
    "# v = dlbeamformer._compute_weights(training_interference_data, desired_null_width)\n",
    "# alps = np.concatenate(l)\n",
    "# phs = phi_grid\n",
    "# nsv = compute_steering_vectors(array_geometry, sampling_frequency=sampling_frequency, \n",
    "#                                     n_fft=n_fft_bins, theta_grid=np.unique(alps), phi_grid=np.unique(phs) )\n",
    "# assert np.allclose(v, nsv)\n",
    "null_constraint_threshold = 0.01\n",
    "dlbeamformer.fit(nc_training_interference_data, desired_null_width, \n",
    "                null_constraint_threshold, eigenvalue_percentage_threshold=0.99)"
   ]
  },
  {
   "cell_type": "code",
   "execution_count": null,
   "metadata": {},
   "outputs": [],
   "source": [
    "dictionary = BaseDLBeamformer(source_steering_vectors[:, 0, 0, :])\n",
    "dictionary.fit(training_interference_data);"
   ]
  },
  {
   "cell_type": "code",
   "execution_count": null,
   "metadata": {},
   "outputs": [],
   "source": [
    "# dict_filename = \"baseline_dl_azimuth_step_{}_trainning_samples_{}.pkl\".format(\n",
    "#     azimuth_step, n_training_samples\n",
    "# )\n",
    "# train_models_path = \"/data/dung/dictionary-beamforming-speech-enhancement/trained_models\"\n",
    "# dict_filepath = os.path.join(train_models_path, dict_filename)\n",
    "# with open(dict_filepath, 'wb') as output:\n",
    "#     pickle.dump(dictionary, output, pickle.HIGHEST_PROTOCOL)"
   ]
  },
  {
   "cell_type": "code",
   "execution_count": null,
   "metadata": {},
   "outputs": [],
   "source": [
    "# Simulate received multichannel signal\n",
    "np.random.seed(0)\n",
    "\n",
    "# Test signals    \n",
    "n_test_samples = 40000\n",
    "source_signal = test_data[0][0:n_test_samples]\n",
    "interference_signals = []\n",
    "for i_interference in range(2):\n",
    "    interference_signals.append(test_data[i_interference+1][0:n_test_samples])\n",
    "    \n",
    "# Interference angles\n",
    "thetas_i = np.array([32]) # [degree]\n",
    "phis_i =np.array([0]) # [degree]\n",
    "\n",
    "time_samples = np.arange(0, n_test_samples)/sampling_frequency    \n",
    "\n",
    "source_stft_multichannel = simulate_multichannel_tf(array_geometry, source_signal, theta_s, phi_s,\n",
    "                                sampling_frequency, stft_params)\n",
    "\n",
    "received_stft_multichannel = np.zeros(source_stft_multichannel.shape, dtype=np.complex64)\n",
    "\n",
    "received_stft_multichannel += source_stft_multichannel\n",
    "\n",
    "interference_stfts_multichannel_list = []\n",
    "\n",
    "for i_angle in range(len(thetas_i)):\n",
    "    interference_signal = interference_signals[i_angle]\n",
    "    \n",
    "    interference_stft_multichannel = simulate_multichannel_tf(array_geometry, interference_signal, \n",
    "                                        np.array([thetas_i[i_angle]]), np.array([phis_i[i_angle]]),\n",
    "                                        sampling_frequency, stft_params)\n",
    "\n",
    "    interference_stfts_multichannel_list.append(interference_stft_multichannel)\n",
    "    \n",
    "    received_stft_multichannel += interference_stft_multichannel\n",
    "    \n",
    "interference_stfts_multichannel = sum(interference_stfts_multichannel_list)"
   ]
  },
  {
   "cell_type": "code",
   "execution_count": null,
   "metadata": {},
   "outputs": [],
   "source": [
    "# Listen to the simulated received signal\n",
    "t, ss = istft(np.real(received_stft_multichannel[:, 0, :]), fs=sampling_frequency, window=stft_window,\n",
    "                         nperseg=n_samples_per_frame, noverlap=n_samples_per_frame-hop_size,\n",
    "                         nfft=n_samples_per_frame, boundary=True)\n",
    "\n",
    "plt.imshow(10*np.log10(np.abs(received_stft_multichannel[:, 0, :])), origin='lower', aspect='auto')\n",
    "input_sinr = compute_sinr(source_stft_multichannel, interference_stft_multichannel)\n",
    "print(\"Input SINR: {:.2f} dB\".format(input_sinr))\n",
    "Audio(np.real(ss), rate=sampling_frequency, autoplay=True)"
   ]
  },
  {
   "cell_type": "markdown",
   "metadata": {},
   "source": [
    "### Beamformers and outputs"
   ]
  },
  {
   "cell_type": "code",
   "execution_count": null,
   "metadata": {},
   "outputs": [],
   "source": [
    "# Delay-sum beamformer\n",
    "ds_tf_beamformers = 1./n_mics * source_steering_vectors\n",
    "ds_tf_out = np.zeros((n_fft_bins, received_stft_multichannel.shape[2]), dtype=np.complex64)\n",
    "for i_fft_bin in range(n_fft_bins):\n",
    "    ds_tf_out[i_fft_bin] = ds_tf_beamformers[i_fft_bin, 0, 0].transpose().conjugate().dot(received_stft_multichannel[i_fft_bin])\n",
    "t, ds_out_2 = istft(ds_tf_out, fs=sampling_frequency, window=stft_window,\n",
    "                         nperseg=n_samples_per_frame, noverlap=n_samples_per_frame-hop_size,\n",
    "                         nfft=n_samples_per_frame, boundary=True)    \n",
    "\n",
    "plt.imshow(10*np.log10(np.abs(ds_tf_out)), origin='lower', aspect='auto')\n",
    "ds_out_sinr = compute_sinr(source_stft_multichannel, interference_stft_multichannel, ds_tf_beamformers[:, 0, 0, :])\n",
    "print(\"Output SINR: {:.2f} dB\".format(ds_out_sinr[0][0]))\n",
    "Audio(np.real(ds_out_2), rate=sampling_frequency, autoplay=True)"
   ]
  },
  {
   "cell_type": "code",
   "execution_count": null,
   "metadata": {},
   "outputs": [],
   "source": [
    "mpdr_tf_beamformers = compute_mvdr_tf_beamformers(source_steering_vectors[:, 0, 0, :], received_stft_multichannel)\n",
    "mpdr_tf_out = np.zeros((n_fft_bins, received_stft_multichannel.shape[2]), dtype=np.complex64)\n",
    "for i_fft_bin in range(n_fft_bins):\n",
    "    mpdr_tf_out[i_fft_bin] = mpdr_tf_beamformers[i_fft_bin].transpose().conjugate().dot(received_stft_multichannel[i_fft_bin])\n",
    "t, mpdr_out = istft(mpdr_tf_out, fs=sampling_frequency, window=stft_window,\n",
    "                         nperseg=n_samples_per_frame, noverlap=n_samples_per_frame-hop_size,\n",
    "                         nfft=n_samples_per_frame, boundary=True)\n",
    "\n",
    "plt.imshow(10*np.log10(np.abs(mpdr_tf_out)), origin='lower', aspect='auto')\n",
    "mpdr_out_sinr = compute_sinr(source_stft_multichannel, interference_stft_multichannel, mpdr_tf_beamformers)\n",
    "print(\"MPDR output SINR: {:.2f} dB\".format(mpdr_out_sinr[0][0]))\n",
    "Audio(np.real(mpdr_out), rate=sampling_frequency, autoplay=True)"
   ]
  },
  {
   "cell_type": "code",
   "execution_count": null,
   "metadata": {},
   "outputs": [],
   "source": [
    "mvdr_tf_beamformers = compute_mvdr_tf_beamformers(source_steering_vectors[:, 0, 0, :], interference_stfts_multichannel)\n",
    "mvdr_tf_out = np.zeros((n_fft_bins, received_stft_multichannel.shape[2]), dtype=np.complex64)\n",
    "for i_fft_bin in range(n_fft_bins):\n",
    "    mvdr_tf_out[i_fft_bin] = mvdr_tf_beamformers[i_fft_bin].transpose().conjugate().dot(received_stft_multichannel[i_fft_bin])\n",
    "t, mvdr_out_2 = istft(mvdr_tf_out, fs=sampling_frequency, window=stft_window,\n",
    "                         nperseg=n_samples_per_frame, noverlap=n_samples_per_frame-hop_size,\n",
    "                         nfft=n_samples_per_frame, boundary=True)\n",
    "\n",
    "plt.imshow(10*np.log10(np.abs(mvdr_tf_out)), origin='lower', aspect='auto')\n",
    "mvdr_out_sinr = compute_sinr(source_stft_multichannel, interference_stft_multichannel, mvdr_tf_beamformers)\n",
    "print(\"MVDR output SINR: {:.2f} dB\".format(mvdr_out_sinr[0][0]))\n",
    "Audio(np.real(mvdr_out_2), rate=sampling_frequency, autoplay=True)"
   ]
  },
  {
   "cell_type": "code",
   "execution_count": null,
   "metadata": {},
   "outputs": [],
   "source": [
    "theta_nulling = np.array([27, 29, 31, 33, 35])\n",
    "theta_all = np.hstack((theta_s, theta_nulling))\n",
    "phi_all = np.zeros([1])\n",
    "lcmv_constraint_vector = np.zeros(theta_nulling.shape[0] + 1)\n",
    "lcmv_constraint_vector[0] = 1\n",
    "# theta_all = theta_s\n",
    "# lcmv_constraint_vector = np.array([1])\n",
    "lcmv_steering_vectors = compute_steering_vectors(array_geometry, sampling_frequency=sampling_frequency, \n",
    "                                    n_fft=n_fft_bins, theta_grid=theta_all, phi_grid=phi_all) \n",
    "C = np.transpose(lcmv_steering_vectors[:, :, 0, :], (0, 2, 1))\n",
    "lcmv_tf_beamformers = compute_lcmv_tf_beamformers(C, interference_stft_multichannel, lcmv_constraint_vector)\n",
    "lcmv_tf_out = np.zeros((n_fft_bins, received_stft_multichannel.shape[2]), dtype=np.complex64)\n",
    "for i_fft_bin in range(n_fft_bins):\n",
    "    lcmv_tf_out[i_fft_bin] = lcmv_tf_beamformers[i_fft_bin].transpose().conjugate().dot(received_stft_multichannel[i_fft_bin])\n",
    "t, lcmv_out = istft(lcmv_tf_out, fs=sampling_frequency, window=stft_window,\n",
    "                         nperseg=n_samples_per_frame, noverlap=n_samples_per_frame-hop_size,\n",
    "                         nfft=n_samples_per_frame, boundary=True)\n",
    "\n",
    "plt.imshow(10*np.log10(np.abs(lcmv_tf_out)), origin='lower', aspect='auto')\n",
    "lcmv_out_sinr = compute_sinr(source_stft_multichannel, interference_stft_multichannel, lcmv_tf_beamformers)\n",
    "print(\"LCMV output SINR: {:.2f} dB\".format(lcmv_out_sinr[0][0]))\n",
    "Audio(np.real(lcmv_out), rate=sampling_frequency, autoplay=True)"
   ]
  },
  {
   "cell_type": "code",
   "execution_count": null,
   "metadata": {},
   "outputs": [],
   "source": [
    "# theta_nulling = np.hstack((np.arange(2.5, 7.5, .1), np.arange(27.5, 32.5, .1)))\n",
    "theta_nulling = np.arange(27.5, 32.5, .1)\n",
    "theta_all = np.hstack((theta_s, theta_nulling))\n",
    "phi_all = np.zeros([1])\n",
    "\n",
    "################################################################################\n",
    "# SANITY CHECK: this should result in a beam pattern similar to that of MVDR\n",
    "# theta_nulling = theta_s\n",
    "################################################################################\n",
    "null_steering_vectors = compute_steering_vectors(array_geometry, sampling_frequency=sampling_frequency, \n",
    "                                    n_fft=n_fft_bins, theta_grid=theta_nulling, phi_grid=phi_all) \n",
    "null_steering_vectors = np.transpose(null_steering_vectors[:, :, 0, :], (0, 2, 1))\n",
    "print(source_steering_vectors.shape)\n",
    "null_constraint_threshold = 0.01\n",
    "nc_tf_beamformers = compute_null_controlling_tf_beamformers(source_steering_vectors[:, 0, 0, :], \n",
    "                null_steering_vectors, interference_stft_multichannel, \n",
    "                null_constraint_threshold, eigenvalue_percentage_threshold=0.99)\n",
    "nc_tf_out = np.zeros((n_fft_bins, received_stft_multichannel.shape[2]), dtype=np.complex64)\n",
    "for i_fft_bin in range(n_fft_bins):\n",
    "    nc_tf_out[i_fft_bin] = nc_tf_beamformers[i_fft_bin].transpose().conjugate().dot(received_stft_multichannel[i_fft_bin])\n",
    "t, nc_out = istft(nc_tf_out, fs=sampling_frequency, window=stft_window,\n",
    "                         nperseg=n_samples_per_frame, noverlap=n_samples_per_frame-hop_size,\n",
    "                         nfft=n_samples_per_frame, boundary=True)\n",
    "\n",
    "plt.imshow(10*np.log10(np.abs(nc_tf_out)), origin='lower', aspect='auto')\n",
    "nc_out_sinr = compute_sinr(source_stft_multichannel, interference_stft_multichannel, nc_tf_beamformers)\n",
    "print(\"NC output SINR: {:.2f} dB\".format(nc_out_sinr[0][0]))\n",
    "Audio(np.real(lcmv_out), rate=sampling_frequency, autoplay=True)"
   ]
  },
  {
   "cell_type": "code",
   "execution_count": null,
   "metadata": {},
   "outputs": [],
   "source": [
    "_, _, mvdr_stft = stft(np.real(mvdr_out_2), fs=sampling_frequency, window=stft_window,\n",
    "                         nperseg=n_samples_per_frame, noverlap=n_samples_per_frame-hop_size,\n",
    "                         nfft=n_samples_per_frame, padded=True)\n",
    "t, s = istft(mvdr_stft, fs=sampling_frequency, window=stft_window,\n",
    "                         nperseg=n_samples_per_frame, noverlap=n_samples_per_frame-hop_size,\n",
    "                         nfft=n_samples_per_frame, boundary=True)\n",
    "Audio(np.real(s), rate=sampling_frequency, autoplay=True)"
   ]
  },
  {
   "cell_type": "code",
   "execution_count": null,
   "metadata": {},
   "outputs": [],
   "source": [
    "source_angle_index = 0\n",
    "nc_dl_tf_beamformers, _ = dlbeamformer.choose_weights(source_angle_index, \n",
    "                            interference_stfts_multichannel)\n",
    "nc_dl_tf_out = np.zeros((n_fft_bins, interference_stfts_multichannel.shape[2]), dtype=np.complex64)\n",
    "for i_fft_bin in range(n_fft_bins):\n",
    "    nc_dl_tf_out[i_fft_bin] = nc_dl_tf_beamformers[i_fft_bin].transpose().conjugate().dot(received_stft_multichannel[i_fft_bin])\n",
    "t, nc_dl_out = istft(nc_dl_tf_out, fs=sampling_frequency, window=stft_window,\n",
    "                         nperseg=n_samples_per_frame, noverlap=n_samples_per_frame-hop_size,\n",
    "                         nfft=n_samples_per_frame, boundary=True)\n",
    "\n",
    "plt.imshow(10*np.log10(np.abs(nc_dl_tf_out)), origin='lower', aspect='auto')\n",
    "nc_dl_out_sinr = compute_sinr(source_stft_multichannel, interference_stft_multichannel, nc_dl_tf_beamformers)\n",
    "print(\"Null controlling DL output SINR: {:.2f} dB\".format(nc_dl_out_sinr[0][0]))\n",
    "Audio(np.real(nc_dl_out), rate=sampling_frequency, autoplay=True)"
   ]
  },
  {
   "cell_type": "code",
   "execution_count": null,
   "metadata": {},
   "outputs": [],
   "source": [
    "mvdr_dl_tf_beamformers, _ = dictionary.choose_weights(interference_stfts_multichannel)\n",
    "mvdr_dl_tf_out = np.zeros((n_fft_bins, interference_stfts_multichannel.shape[2]), dtype=np.complex64)\n",
    "for i_fft_bin in range(n_fft_bins):\n",
    "    mvdr_dl_tf_out[i_fft_bin] = mvdr_dl_tf_beamformers[i_fft_bin].transpose().conjugate().dot(received_stft_multichannel[i_fft_bin])\n",
    "t, mvdr_dl_out = istft(mvdr_dl_tf_out, fs=sampling_frequency, window=stft_window,\n",
    "                         nperseg=n_samples_per_frame, noverlap=n_samples_per_frame-hop_size,\n",
    "                         nfft=n_samples_per_frame, boundary=True)\n",
    "\n",
    "plt.imshow(10*np.log10(np.abs(mvdr_dl_tf_out)), origin='lower', aspect='auto')\n",
    "mvdr_dl_out_sinr = compute_sinr(source_stft_multichannel, interference_stft_multichannel, mvdr_dl_tf_beamformers)\n",
    "print(\"MVDR DL output SINR: {:.2f} dB\".format(mvdr_dl_out_sinr[0][0]))\n",
    "Audio(np.real(mvdr_dl_out), rate=sampling_frequency, autoplay=True)"
   ]
  },
  {
   "cell_type": "code",
   "execution_count": null,
   "metadata": {},
   "outputs": [],
   "source": [
    "mpdr_dl_tf_beamformers, _ = dictionary.choose_weights(received_stft_multichannel)\n",
    "mpdr_dl_tf_out = np.zeros((n_fft_bins, received_stft_multichannel.shape[2]), dtype=np.complex64)\n",
    "for i_fft_bin in range(n_fft_bins):\n",
    "    mpdr_dl_tf_out[i_fft_bin] = mpdr_dl_tf_beamformers[i_fft_bin].transpose().conjugate().dot(received_stft_multichannel[i_fft_bin])\n",
    "t, mpdr_dl_out = istft(mpdr_dl_tf_out, fs=sampling_frequency, window=stft_window,\n",
    "                         nperseg=n_samples_per_frame, noverlap=n_samples_per_frame-hop_size,\n",
    "                         nfft=n_samples_per_frame, boundary=True)\n",
    "\n",
    "plt.imshow(10*np.log10(np.abs(mpdr_dl_tf_out)), origin='lower', aspect='auto')\n",
    "mpdr_dl_out_sinr = compute_sinr(source_stft_multichannel, interference_stft_multichannel, mpdr_dl_tf_beamformers)\n",
    "print(\"MPDR DL output SINR: {:.2f} dB\".format(mpdr_dl_out_sinr[0][0]))\n",
    "Audio(np.real(mpdr_dl_out), rate=sampling_frequency, autoplay=True)"
   ]
  },
  {
   "cell_type": "code",
   "execution_count": null,
   "metadata": {},
   "outputs": [],
   "source": [
    "regularization_param = 1e4\n",
    "mvndr_tf_beamformers = compute_mvndr_tf_beamformers(source_steering_vectors[:, 0, 0, :], \n",
    "                                            interference_stfts_multichannel, regularization_param)\n",
    "mvndr_tf_out = np.zeros((n_fft_bins, received_stft_multichannel.shape[2]), dtype=np.complex64)\n",
    "for i_fft_bin in range(n_fft_bins):\n",
    "    mvndr_tf_out[i_fft_bin] = mvndr_tf_beamformers[i_fft_bin].transpose().conjugate().dot(received_stft_multichannel[i_fft_bin])\n",
    "t, mvndr_out = istft(mvndr_tf_out, fs=sampling_frequency, window=stft_window,\n",
    "                         nperseg=n_samples_per_frame, noverlap=n_samples_per_frame-hop_size,\n",
    "                         nfft=n_samples_per_frame, boundary=True)\n",
    "\n",
    "plt.imshow(10*np.log10(np.abs(mvndr_tf_out)), origin='lower', aspect='auto')\n",
    "# mvndr_out_sinr = compute_sinr(source_stft_multichannel, interference_stft_multichannel, mvndr_tf_beamformers)\n",
    "# print(\"MVNDR output SINR: {:.2f} dB\".format(mvndr_out_sinr[0][0]))\n",
    "Audio(np.real(mvndr_out), rate=sampling_frequency, autoplay=True)"
   ]
  },
  {
   "cell_type": "markdown",
   "metadata": {},
   "source": [
    "### Beam pattern"
   ]
  },
  {
   "cell_type": "code",
   "execution_count": null,
   "metadata": {},
   "outputs": [],
   "source": [
    "# Delay-sum beam pattern\n",
    "ds_tf_beampattern = np.zeros((n_fft_bins, len(theta_grid), len(phi_grid)), dtype=np.complex64)\n",
    "for i_fft_bin in range(n_fft_bins):\n",
    "    for i_theta in range(len(theta_grid)):\n",
    "        for i_phi in range(len(phi_grid)):\n",
    "            scanning_steering_vector = steering_vectors[i_fft_bin][i_theta][i_phi]\n",
    "            ds_tf_beampattern[i_fft_bin][i_theta][i_phi] = ds_tf_beamformers[i_fft_bin, 0, 0, :].transpose().conjugate().dot(\n",
    "            scanning_steering_vector)\n",
    "\n",
    "ds_tf_beampattern_normalized = np.abs(ds_tf_beampattern)/np.max(np.abs(ds_tf_beampattern))\n",
    "ds_tf_beampattern_db = 20*np.log10(ds_tf_beampattern_normalized);\n",
    "\n",
    "fig = plt.figure(figsize=(9, 6)); ax = fig.add_subplot(111)\n",
    "i_frequencies = [10, 20, 30]\n",
    "for i_f in i_frequencies:\n",
    "    ax.plot(theta_grid, ds_tf_beampattern_db[i_f, :, 0], label=\"Beam pattern\");\n",
    "ax.axvline(x=theta_s[0], linestyle=\"--\", color=flatui[1], label=\"Source angle\");\n",
    "for i_interference in range(0, len(thetas_i)):\n",
    "    ax.axvline(x=thetas_i[i_interference], linestyle=\"--\", color=flatui[i_interference+2], label=\"Interference angle\");\n",
    "ax.set_xlim(-90, 90);\n",
    "ax.set_xlabel(r\"$\\theta$ [degree]\"); ax.set_ylabel(\"Beam pattern [dB]\");\n",
    "ax.set_title(\"Delay-sum TF beam patterns\")\n",
    "ax.legend();\n",
    "\n",
    "ds_ave_beampattern = np.mean(np.abs(ds_tf_beampattern[:, :, 0]), axis=0)\n",
    "ds_ave_beampattern_normalized = ds_ave_beampattern / np.max(ds_ave_beampattern)\n",
    "ds_ave_beampattern_normalized_db = 20*np.log10(ds_ave_beampattern_normalized)\n",
    "fig = plt.figure(figsize=(9, 6)); ax = fig.add_subplot(111)\n",
    "ax.plot(theta_grid, ds_ave_beampattern_normalized_db, label=\"Beam pattern\");\n",
    "ax.axvline(x=theta_s[0], linestyle=\"--\", color=flatui[1], label=\"Source angle\");\n",
    "for i_interference in range(0, len(thetas_i)):\n",
    "    ax.axvline(x=thetas_i[i_interference], linestyle=\"--\", color=flatui[i_interference+2], label=\"Interference angle\");\n",
    "ax.set_xlim(-90, 90); ax.set_ylim(-15, 1)\n",
    "ax.set_xlabel(r\"$\\theta$ [degree]\"); ax.set_ylabel(\"Beam pattern [dB]\");\n",
    "ax.set_title(\"Delay-sum TF average beam pattern\")\n",
    "ax.legend();"
   ]
  },
  {
   "cell_type": "code",
   "execution_count": null,
   "metadata": {},
   "outputs": [],
   "source": [
    "# MVDR beam pattern\n",
    "mvdr_tf_beampattern = np.zeros((n_fft_bins, len(theta_grid), len(phi_grid)), dtype=np.complex64)\n",
    "for i_fft_bin in range(n_fft_bins):\n",
    "    for i_theta in range(len(theta_grid)):\n",
    "        for i_phi in range(len(phi_grid)):\n",
    "            scanning_steering_vector = steering_vectors[i_fft_bin][i_theta][i_phi]\n",
    "            mvdr_tf_beampattern[i_fft_bin][i_theta][i_phi] = mvdr_tf_beamformers[i_fft_bin].transpose().conjugate().dot(\n",
    "            scanning_steering_vector)\n",
    "\n",
    "# mvdr_tf_beampattern_normalized = np.abs(mvdr_tf_beampattern)/np.max(np.abs(mvdr_tf_beampattern))\n",
    "mvdr_tf_beampattern_db = 20*np.log10(np.abs(mvdr_tf_beampattern));\n",
    "\n",
    "fig = plt.figure(figsize=(9, 6)); ax = fig.add_subplot(111)\n",
    "i_frequencies = [10, 20, 30, 40, 50]\n",
    "for i_f in i_frequencies:\n",
    "    ax.plot(theta_grid, mvdr_tf_beampattern_db[i_f, :, 0], label=\"{:.0f} Hz\".format(i_f/n_fft_bins*sampling_frequency));\n",
    "ax.axvline(x=theta_s[0], linestyle=\"--\", color=flatui[1], label=\"Source angle\");\n",
    "for i_interference in range(0, len(thetas_i)):\n",
    "    ax.axvline(x=thetas_i[i_interference], linestyle=\"--\", color=flatui[i_interference+2], label=\"Interference angle\");\n",
    "ax.set_xlim(-90, 90);\n",
    "ax.set_xlabel(r\"$\\theta$ [degree]\"); ax.set_ylabel(\"Beam pattern [dB]\");\n",
    "ax.set_title(\"MVDR TF beam patterns\")\n",
    "ax.legend();\n",
    "\n",
    "mvdr_ave_beampattern = np.mean(np.abs(mvdr_tf_beampattern[:, :, 0]), axis=0)\n",
    "mvdr_ave_beampattern_normalized = mvdr_ave_beampattern / np.max(mvdr_ave_beampattern)\n",
    "mvdr_ave_beampattern_normalized_db = 20*np.log10(mvdr_ave_beampattern_normalized)\n",
    "fig = plt.figure(figsize=(9, 6)); ax = fig.add_subplot(111)\n",
    "ax.plot(theta_grid, mvdr_ave_beampattern_normalized_db, label=\"Beam pattern\");\n",
    "ax.axvline(x=theta_s[0], linestyle=\"--\", color=flatui[1], label=\"Source angle\");\n",
    "for i_interference in range(0, len(thetas_i)):\n",
    "    ax.axvline(x=thetas_i[i_interference], linestyle=\"--\", color=flatui[i_interference+2], label=\"Interference angle\");\n",
    "ax.set_xlim(-90, 90); ax.set_ylim(-15, 1)\n",
    "ax.set_xlabel(r\"$\\theta$ [degree]\"); ax.set_ylabel(\"Beam pattern [dB]\");\n",
    "ax.set_title(\"MVDR TF average beam pattern\")\n",
    "ax.legend();"
   ]
  },
  {
   "cell_type": "code",
   "execution_count": null,
   "metadata": {},
   "outputs": [],
   "source": [
    "# LCMV beam pattern\n",
    "lcmv_tf_beampattern = np.zeros((n_fft_bins, len(theta_grid), len(phi_grid)), dtype=np.complex64)\n",
    "for i_fft_bin in range(n_fft_bins):\n",
    "    for i_theta in range(len(theta_grid)):\n",
    "        for i_phi in range(len(phi_grid)):\n",
    "            scanning_steering_vector = steering_vectors[i_fft_bin][i_theta][i_phi]\n",
    "            lcmv_tf_beampattern[i_fft_bin][i_theta][i_phi] = lcmv_tf_beamformers[i_fft_bin].transpose().conjugate().dot(\n",
    "            scanning_steering_vector)\n",
    "\n",
    "# mvdr_tf_beampattern_normalized = np.abs(mvdr_tf_beampattern)/np.max(np.abs(mvdr_tf_beampattern))\n",
    "lcmv_tf_beampattern_db = 20*np.log10(np.abs(lcmv_tf_beampattern));\n",
    "\n",
    "fig = plt.figure(figsize=(9, 6)); ax = fig.add_subplot(111)\n",
    "i_frequencies = [10, 30, 50]\n",
    "for i_f in i_frequencies:\n",
    "    ax.plot(theta_grid, lcmv_tf_beampattern_db[i_f, :, 0], label=\"{:.0f} Hz\".format(i_f/n_fft_bins*sampling_frequency));\n",
    "ax.axvline(x=theta_s[0], linestyle=\"--\", color=flatui[1], label=\"Source angle\");\n",
    "for i_interference in range(0, len(thetas_i)):\n",
    "    ax.axvline(x=thetas_i[i_interference], linestyle=\"--\", color=flatui[i_interference+2], label=\"Interference angle\");\n",
    "ax.set_xlim(-90, 90);\n",
    "ax.set_xlabel(r\"$\\theta$ [degree]\"); ax.set_ylabel(\"Beam pattern [dB]\");\n",
    "ax.set_title(\"LCMV TF beam patterns\")\n",
    "ax.legend();\n",
    "\n",
    "lcmv_ave_beampattern = np.mean(np.abs(lcmv_tf_beampattern[:, :, 0]), axis=0)\n",
    "lcmv_ave_beampattern_normalized = lcmv_ave_beampattern / np.max(lcmv_ave_beampattern)\n",
    "lcmv_ave_beampattern_normalized = lcmv_ave_beampattern\n",
    "lcmv_ave_beampattern_normalized_db = 20*np.log10(lcmv_ave_beampattern_normalized)\n",
    "fig = plt.figure(figsize=(9, 6)); ax = fig.add_subplot(111)\n",
    "ax.plot(theta_grid, lcmv_ave_beampattern_normalized_db, label=\"Beam pattern\");\n",
    "ax.axvline(x=theta_s[0], linestyle=\"--\", color=flatui[1], label=\"Source angle\");\n",
    "for i_interference in range(0, len(thetas_i)):\n",
    "    ax.axvline(x=thetas_i[i_interference], linestyle=\"--\", color=flatui[i_interference+2], label=\"Interference angle\");\n",
    "ax.set_xlim(-90, 90); ax.set_ylim(-15, 10)\n",
    "ax.set_xlabel(r\"$\\theta$ [degree]\"); ax.set_ylabel(\"Beam pattern [dB]\");\n",
    "ax.set_title(\"LCMV TF average beam pattern\")\n",
    "ax.legend();"
   ]
  },
  {
   "cell_type": "code",
   "execution_count": null,
   "metadata": {},
   "outputs": [],
   "source": [
    "# Null-controlling beam pattern\n",
    "nc_tf_beampattern = np.zeros((n_fft_bins, len(theta_grid), len(phi_grid)), dtype=np.complex64)\n",
    "for i_fft_bin in range(n_fft_bins):\n",
    "    for i_theta in range(len(theta_grid)):\n",
    "        for i_phi in range(len(phi_grid)):\n",
    "            scanning_steering_vector = steering_vectors[i_fft_bin][i_theta][i_phi]\n",
    "            nc_tf_beampattern[i_fft_bin][i_theta][i_phi] = nc_tf_beamformers[i_fft_bin].transpose().conjugate().dot(\n",
    "            scanning_steering_vector)\n",
    "\n",
    "# mvdr_tf_beampattern_normalized = np.abs(mvdr_tf_beampattern)/np.max(np.abs(mvdr_tf_beampattern))\n",
    "nc_tf_beampattern_db = 20*np.log10(np.abs(nc_tf_beampattern));\n",
    "\n",
    "fig = plt.figure(figsize=(9, 6)); ax = fig.add_subplot(111)\n",
    "i_frequencies = [10, 30, 50]\n",
    "for i_f in i_frequencies:\n",
    "    ax.plot(theta_grid, nc_tf_beampattern_db[i_f, :, 0], label=\"{:.0f} Hz\".format(i_f/n_fft_bins*sampling_frequency));\n",
    "ax.axvline(x=theta_s[0], linestyle=\"--\", color=flatui[1], label=\"Source angle\");\n",
    "for i_interference in range(0, len(thetas_i)):\n",
    "    ax.axvline(x=thetas_i[i_interference], linestyle=\"--\", color=flatui[i_interference+2], label=\"Interference angle\");\n",
    "ax.set_xlim(-90, 90);\n",
    "ax.set_xlabel(r\"$\\theta$ [degree]\"); ax.set_ylabel(\"Beam pattern [dB]\");\n",
    "ax.set_title(\"Null-controlling TF beam patterns\")\n",
    "ax.legend();\n",
    "\n",
    "nc_ave_beampattern = np.mean(np.abs(nc_tf_beampattern[:, :, 0]), axis=0)\n",
    "nc_ave_beampattern_normalized = nc_ave_beampattern / np.max(nc_ave_beampattern)\n",
    "# nc_ave_beampattern_normalized = nc_ave_beampattern\n",
    "nc_ave_beampattern_normalized_db = 20*np.log10(nc_ave_beampattern_normalized)\n",
    "fig = plt.figure(figsize=(9, 6)); ax = fig.add_subplot(111)\n",
    "ax.plot(theta_grid, nc_ave_beampattern_normalized_db, label=\"Beam pattern\");\n",
    "ax.axvline(x=theta_s[0], linestyle=\"--\", color=flatui[1], label=\"Source angle\");\n",
    "for i_interference in range(0, len(thetas_i)):\n",
    "    ax.axvline(x=thetas_i[i_interference], linestyle=\"--\", color=flatui[i_interference+2], label=\"Interference angle\");\n",
    "ax.set_xlim(-90, 90); ax.set_ylim(-15, 1)\n",
    "ax.set_xlabel(r\"$\\theta$ [degree]\"); ax.set_ylabel(\"Beam pattern [dB]\");\n",
    "ax.set_title(\"Null-controlling TF average beam pattern\")\n",
    "ax.legend();"
   ]
  },
  {
   "cell_type": "code",
   "execution_count": null,
   "metadata": {},
   "outputs": [],
   "source": [
    "# Null-controlling DL beam pattern\n",
    "nc_dl_tf_beampattern = np.zeros((n_fft_bins, len(theta_grid), len(phi_grid)), dtype=np.complex64)\n",
    "for i_fft_bin in range(n_fft_bins):\n",
    "    for i_theta in range(len(theta_grid)):\n",
    "        for i_phi in range(len(phi_grid)):\n",
    "            scanning_steering_vector = steering_vectors[i_fft_bin][i_theta][i_phi]\n",
    "            nc_dl_tf_beampattern[i_fft_bin][i_theta][i_phi] = nc_dl_tf_beamformers[i_fft_bin].transpose().conjugate().dot(\n",
    "            scanning_steering_vector)\n",
    "\n",
    "# mvdr_tf_beampattern_normalized = np.abs(mvdr_tf_beampattern)/np.max(np.abs(mvdr_tf_beampattern))\n",
    "nc_dl_tf_beampattern_db = 20*np.log10(np.abs(nc_dl_tf_beampattern));\n",
    "\n",
    "fig = plt.figure(figsize=(9, 6)); ax = fig.add_subplot(111)\n",
    "i_frequencies = [10, 30, 50]\n",
    "for i_f in i_frequencies:\n",
    "    ax.plot(theta_grid, nc_dl_tf_beampattern_db[i_f, :, 0], label=\"{:.0f} Hz\".format(i_f/n_fft_bins*sampling_frequency));\n",
    "ax.axvline(x=theta_s[0], linestyle=\"--\", color=flatui[1], label=\"Source angle\");\n",
    "for i_interference in range(0, len(thetas_i)):\n",
    "    ax.axvline(x=thetas_i[i_interference], linestyle=\"--\", color=flatui[i_interference+2], label=\"Interference angle\");\n",
    "ax.set_xlim(-90, 90);\n",
    "ax.set_xlabel(r\"$\\theta$ [degree]\"); ax.set_ylabel(\"Beam pattern [dB]\");\n",
    "ax.set_title(\"Null-controlling DL TF beam patterns\")\n",
    "ax.legend();\n",
    "\n",
    "nc_dl_ave_beampattern = np.mean(np.abs(nc_dl_tf_beampattern[:, :, 0]), axis=0)\n",
    "nc_dl_ave_beampattern_normalized = nc_dl_ave_beampattern / np.max(nc_dl_ave_beampattern)\n",
    "nc_ave_beampattern_normalized = nc_dl_ave_beampattern\n",
    "nc_dl_ave_beampattern_normalized_db = 20*np.log10(nc_dl_ave_beampattern_normalized)\n",
    "fig = plt.figure(figsize=(9, 6)); ax = fig.add_subplot(111)\n",
    "ax.plot(theta_grid, nc_dl_ave_beampattern_normalized_db, label=\"Beam pattern\");\n",
    "ax.axvline(x=theta_s[0], linestyle=\"--\", color=flatui[1], label=\"Source angle\");\n",
    "for i_interference in range(0, len(thetas_i)):\n",
    "    ax.axvline(x=thetas_i[i_interference], linestyle=\"--\", color=flatui[i_interference+2], label=\"Interference angle\");\n",
    "ax.set_xlim(-90, 90); ax.set_ylim(-15, 1)\n",
    "ax.set_xlabel(r\"$\\theta$ [degree]\"); ax.set_ylabel(\"Beam pattern [dB]\");\n",
    "ax.set_title(\"Null-controlling DL TF average beam pattern\")\n",
    "ax.legend();"
   ]
  },
  {
   "cell_type": "code",
   "execution_count": null,
   "metadata": {},
   "outputs": [],
   "source": [
    "# MPDR beam pattern\n",
    "mpdr_tf_beampattern = np.zeros((n_fft_bins, len(theta_grid), len(phi_grid)), dtype=np.complex64)\n",
    "for i_fft_bin in range(n_fft_bins):\n",
    "    for i_theta in range(len(theta_grid)):\n",
    "        for i_phi in range(len(phi_grid)):\n",
    "            scanning_steering_vector = steering_vectors[i_fft_bin][i_theta][i_phi]\n",
    "            mpdr_tf_beampattern[i_fft_bin][i_theta][i_phi] = mpdr_tf_beamformers[i_fft_bin].transpose().conjugate().dot(\n",
    "            scanning_steering_vector)\n",
    "\n",
    "# mvdr_tf_beampattern_normalized = np.abs(mvdr_tf_beampattern)/np.max(np.abs(mvdr_tf_beampattern))\n",
    "mpdr_tf_beampattern_db = 20*np.log10(np.abs(mpdr_tf_beampattern));\n",
    "\n",
    "fig = plt.figure(figsize=(9, 6)); ax = fig.add_subplot(111)\n",
    "i_frequencies = [10, 20, 30, 40, 50]\n",
    "for i_f in i_frequencies:\n",
    "    ax.plot(theta_grid, mpdr_tf_beampattern_db[i_f, :, 0], label=\"{:.0f} Hz\".format(i_f/n_fft_bins*sampling_frequency));\n",
    "ax.axvline(x=theta_s[0], linestyle=\"--\", color=flatui[1], label=\"Source angle\");\n",
    "for i_interference in range(0, len(thetas_i)):\n",
    "    ax.axvline(x=thetas_i[i_interference], linestyle=\"--\", color=flatui[i_interference+2], label=\"Interference angle\");\n",
    "ax.set_xlim(-90, 90);\n",
    "ax.set_xlabel(r\"$\\theta$ [degree]\"); ax.set_ylabel(\"Beam pattern [dB]\");\n",
    "ax.set_title(\"MPDR TF beam patterns\")\n",
    "ax.legend();\n",
    "\n",
    "mpdr_ave_beampattern = np.mean(np.abs(mpdr_tf_beampattern[:, :, 0]), axis=0)\n",
    "mpdr_ave_beampattern_normalized = mpdr_ave_beampattern / np.max(mpdr_ave_beampattern)\n",
    "mpdr_ave_beampattern_normalized_db = 20*np.log10(mpdr_ave_beampattern_normalized)\n",
    "fig = plt.figure(figsize=(9, 6)); ax = fig.add_subplot(111)\n",
    "ax.plot(theta_grid, mpdr_ave_beampattern_normalized_db, label=\"Beam pattern\");\n",
    "ax.axvline(x=theta_s[0], linestyle=\"--\", color=flatui[1], label=\"Source angle\");\n",
    "for i_interference in range(0, len(thetas_i)):\n",
    "    ax.axvline(x=thetas_i[i_interference], linestyle=\"--\", color=flatui[i_interference+2], label=\"Interference angle\");\n",
    "ax.set_xlim(-90, 90); ax.set_ylim(-15, 1)\n",
    "ax.set_xlabel(r\"$\\theta$ [degree]\"); ax.set_ylabel(\"Beam pattern [dB]\");\n",
    "ax.set_title(\"MPDR TF average beam pattern\")\n",
    "ax.legend();"
   ]
  },
  {
   "cell_type": "markdown",
   "metadata": {},
   "source": [
    "### Steered response"
   ]
  },
  {
   "cell_type": "markdown",
   "metadata": {},
   "source": [
    "###### DS beamformers aim to emphasize target angles and not to create nulls."
   ]
  },
  {
   "cell_type": "code",
   "execution_count": null,
   "metadata": {},
   "outputs": [],
   "source": [
    "# Delay-sum steered response\n",
    "ds_tf_S = np.zeros((n_fft_bins, len(theta_grid), len(phi_grid)), dtype=np.complex64)\n",
    "for i_fft_bin in range(n_fft_bins):\n",
    "    sample_tf_covariance_matrix = 1./n_test_samples * ( received_stft_multichannel[i_fft_bin].dot(received_stft_multichannel[i_fft_bin].transpose().conjugate()) )\n",
    "    for i_theta in range(len(theta_grid)):\n",
    "        for i_phi in range(len(phi_grid)):\n",
    "            scanning_steering_vector = steering_vectors[i_fft_bin][i_theta][i_phi]\n",
    "            ds_tf_S[i_fft_bin][i_theta][i_phi] = (1./n_mics * scanning_steering_vector).transpose().conjugate().dot(\n",
    "                sample_tf_covariance_matrix).dot(1./n_mics * scanning_steering_vector)\n",
    "\n",
    "ds_tf_S_normalized = np.abs(ds_tf_S)/np.max(np.abs(ds_tf_S))\n",
    "ds_tf_S_db = 10*np.log10(ds_tf_S_normalized);\n",
    "\n",
    "fig = plt.figure(figsize=(9, 6)); ax = fig.add_subplot(111)\n",
    "i_frequencies = [10, 20, 30]\n",
    "for i_f in i_frequencies:\n",
    "    ax.plot(theta_grid, ds_tf_S_db[i_f, :, 0], label=\"Steered response\");\n",
    "ax.axvline(x=theta_s[0], linestyle=\"--\", color=flatui[1], label=\"Source angle\");\n",
    "for i_interference in range(0, len(thetas_i)):\n",
    "    ax.axvline(x=thetas_i[i_interference], linestyle=\"--\", color=flatui[i_interference+2], label=\"Interference angle\");\n",
    "ax.set_xlim(-90, 90);\n",
    "ax.set_xlabel(r\"$\\theta$ [degree]\"); ax.set_ylabel(\"Beam pattern [dB]\");\n",
    "ax.set_title(\"Delay-sum TF steered response\")\n",
    "ax.legend();"
   ]
  },
  {
   "cell_type": "markdown",
   "metadata": {},
   "source": [
    "###### MVDR places nulls at interference directions"
   ]
  },
  {
   "cell_type": "code",
   "execution_count": null,
   "metadata": {},
   "outputs": [],
   "source": [
    "# MVDR steered response\n",
    "mvdr_dl_tf_S = np.zeros((n_fft_bins, len(theta_grid), len(phi_grid)), dtype=np.complex64)\n",
    "for i_fft_bin in range(n_fft_bins):\n",
    "    sample_tf_covariance_matrix = 1./n_test_samples * ( interference_stft_multichannel[i_fft_bin].dot(interference_stft_multichannel[i_fft_bin].transpose().conjugate()) )\n",
    "    for i_theta in range(len(theta_grid)):\n",
    "        for i_phi in range(len(phi_grid)):\n",
    "            scanning_steering_vector = steering_vectors[i_fft_bin][i_theta][i_phi]\n",
    "            mvdr_dl_tf_S[i_fft_bin][i_theta][i_phi] = 1 / ((scanning_steering_vector).transpose().conjugate().dot(\n",
    "                sample_tf_covariance_matrix).dot(scanning_steering_vector))\n",
    "\n",
    "mvdr_tf_S_normalized = np.abs(mvdr_dl_tf_S)/np.max(np.abs(mvdr_dl_tf_S))\n",
    "mvdr_tf_S_db = 10*np.log10(mvdr_tf_S_normalized);\n",
    "\n",
    "fig = plt.figure(figsize=(9, 6)); ax = fig.add_subplot(111)\n",
    "i_frequencies = [10, 20, 30]\n",
    "for i_f in i_frequencies:\n",
    "    ax.plot(theta_grid, mvdr_tf_S_db[i_f, :, 0], label=\"Steered response\");\n",
    "ax.axvline(x=theta_s[0], linestyle=\"--\", color=flatui[1], label=\"Source angle\");\n",
    "for i_interference in range(0, len(thetas_i)):\n",
    "    ax.axvline(x=thetas_i[i_interference], linestyle=\"--\", color=flatui[i_interference+2], label=\"Interference angle\");\n",
    "ax.set_xlim(-90, 90);\n",
    "ax.set_xlabel(r\"$\\theta$ [degree]\"); ax.set_ylabel(\"Beam pattern [dB]\");\n",
    "ax.set_title(\"MVDR TF steered response\")\n",
    "ax.legend();"
   ]
  }
 ],
 "metadata": {
  "kernelspec": {
   "display_name": "ML Python 3.6",
   "language": "python",
   "name": "tf-p36"
  },
  "language_info": {
   "codemirror_mode": {
    "name": "ipython",
    "version": 3
   },
   "file_extension": ".py",
   "mimetype": "text/x-python",
   "name": "python",
   "nbconvert_exporter": "python",
   "pygments_lexer": "ipython3",
   "version": "3.6.7"
  }
 },
 "nbformat": 4,
 "nbformat_minor": 2
}
