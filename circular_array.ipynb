{
 "cells": [
  {
   "cell_type": "code",
   "execution_count": 1,
   "metadata": {},
   "outputs": [],
   "source": [
    "import numpy as np\n",
    "import matplotlib.pyplot as plt\n",
    "from seaborn import set_palette\n",
    "import pickle\n",
    "flatui = [\"#3498db\", \"#9b59b6\", \"#95a5a6\", \"#e74c3c\", \"#34495e\", \"#2ecc71\"]\n",
    "set_palette(flatui)\n",
    "%matplotlib inline\n",
    "%config InlineBackend.figure_format = \"retina\"\n",
    "plt.rcParams['axes.spines.top'] = False\n",
    "plt.rcParams['axes.spines.right'] = False\n",
    "plt.rcParams['axes.grid'] = True\n",
    "plt.rcParams['grid.color'] = 'gray'\n",
    "plt.rcParams['grid.linewidth'] = 0.25\n",
    "plt.rcParams['grid.alpha'] = 0.2\n",
    "plt.style.use('seaborn-talk')\n",
    "cmap = \"RdBu_r\"\n",
    "\n",
    "from scipy.signal import stft, istft, get_window\n",
    "from scipy.fftpack import fft, fftshift, fftfreq\n",
    "from IPython.display import Audio\n",
    "from tqdm import tnrange, tqdm_notebook\n",
    "from dlbeamformer_utilities import compute_steering_vectors_single_frequency,\\\n",
    "    compute_steering_vectors, simulate_multichannel_tf, compute_sinr,\\\n",
    "    compute_mvdr_tf_beamformers, check_distortless_constraint,\\\n",
    "    compute_mvndr_tf_beamformers, compute_lcmv_tf_beamformers,\\\n",
    "    compute_null_controlling_tf_beamformers,\\\n",
    "    compute_steering_vectors_circular\n",
    "from dlbeamformers import BaseDLBeamformer, DLBeamformer\n",
    "from dictionary_learning_beamformers import DictionaryLearningBeamformer\n",
    "random_seed = 0\n"
   ]
  },
  {
   "cell_type": "code",
   "execution_count": 2,
   "metadata": {},
   "outputs": [
    {
     "data": {
      "text/plain": [
       "(3, 7)"
      ]
     },
     "execution_count": 2,
     "metadata": {},
     "output_type": "execute_result"
    }
   ],
   "source": [
    "from configparser import ConfigParser\n",
    "config = ConfigParser()\n",
    "config.read('config.INI');\n",
    "params = config['PARAMS']\n",
    "sampling_frequency = int(params['sampling_frequency'])\n",
    "n_samples_per_frame = int(params['n_samples_per_frame'])\n",
    "n_fft_bins = (int) (n_samples_per_frame / 2) \n",
    "hop_size = (int) (n_samples_per_frame / 2)\n",
    "stft_window_name = params['stft_window_name']\n",
    "stft_window = get_window(\"hann\", n_samples_per_frame)\n",
    "stft_params = {\n",
    "    \"n_samples_per_frame\": n_samples_per_frame,\n",
    "    \"n_fft_bins\": n_fft_bins,\n",
    "    \"hop_size\": hop_size,\n",
    "    \"window\": stft_window\n",
    "}\n",
    "max_f_index = 128\n",
    "\n",
    "sound_speed = int(config[\"CONSTANTS\"][\"SOUND_SPEED\"])\n",
    "signal_max_freq = sampling_frequency / 2\n",
    "min_wavelength = sound_speed / signal_max_freq\n",
    "\n",
    "# Microphone positions\n",
    "mic_geometry_mm = [(-35.0,  20.0),\n",
    "                   (-35.0, -20.0),\n",
    "                   (  0.0, -40.0),\n",
    "                   ( 35.0, -20.0),\n",
    "                   ( 35.0,  20.0),\n",
    "                   (  0.0,  40.0),\n",
    "                   (  0.0,   0.0)]\n",
    "pos_x = np.array([-35.0, -35.0, 0.0, 35.0, 35.0, 0.0, 0.0]) * 1e-3\n",
    "n_mics = len(pos_x)\n",
    "pos_y = np.array([20.0, -20.0, -40.0, -20.0, 20.0, 40.0, 0.0]) * 1e-3\n",
    "pos_z = np.zeros(n_mics)\n",
    "array_geometry = np.row_stack((pos_x, pos_y, pos_z))\n",
    "array_geometry.shape"
   ]
  },
  {
   "cell_type": "code",
   "execution_count": 35,
   "metadata": {},
   "outputs": [
    {
     "name": "stdout",
     "output_type": "stream",
     "text": [
      "312.5\n"
     ]
    }
   ],
   "source": [
    "theta_grid = np.array([-90])\n",
    "phi_grid = np.arange(0, 360, 5)\n",
    "f = 10 / n_fft_bins * (sampling_frequency/2)\n",
    "print(f)\n",
    "compute_steering_vectors_single_frequency(array_geometry, f, theta_grid, phi_grid)\n",
    "v = compute_steering_vectors(array_geometry, sampling_frequency, n_fft_bins, theta_grid, phi_grid)"
   ]
  },
  {
   "cell_type": "code",
   "execution_count": 39,
   "metadata": {},
   "outputs": [],
   "source": [
    "azimuth_grid = np.arange(0, 360, 5) # [degree]\n",
    "e = np.load(\"./e.npy\")\n",
    "tau = np.load(\"./tau.npy\")"
   ]
  },
  {
   "cell_type": "code",
   "execution_count": 40,
   "metadata": {},
   "outputs": [],
   "source": [
    "e_ = compute_steering_vectors_circular(array_geometry, sampling_frequency, stft_params, azimuth_grid)"
   ]
  },
  {
   "cell_type": "code",
   "execution_count": 41,
   "metadata": {},
   "outputs": [
    {
     "name": "stdout",
     "output_type": "stream",
     "text": [
      "[0.999183-4.0413897e-02j 0.999183-4.0413897e-02j 1.      +2.8289277e-18j\n",
      " 0.999183+4.0413897e-02j 0.999183+4.0413897e-02j 1.      +2.8289277e-18j\n",
      " 1.      +0.0000000e+00j]\n",
      "[0.999183-4.0413897e-02j 0.999183-4.0413897e-02j 1.      +2.8289277e-18j\n",
      " 0.999183+4.0413897e-02j 0.999183+4.0413897e-02j 1.      +2.8289277e-18j\n",
      " 1.      +0.0000000e+00j]\n"
     ]
    }
   ],
   "source": [
    "print(e_[2, 0, :])\n",
    "print(e[2, 0, :])\n",
    "i = 2\n",
    "assert np.allclose(e_, e)"
   ]
  },
  {
   "cell_type": "code",
   "execution_count": 46,
   "metadata": {},
   "outputs": [],
   "source": [
    "assert np.allclose(v[:, 0, :, :], e_)"
   ]
  },
  {
   "cell_type": "code",
   "execution_count": 48,
   "metadata": {},
   "outputs": [
    {
     "data": {
      "text/plain": [
       "True"
      ]
     },
     "execution_count": 48,
     "metadata": {},
     "output_type": "execute_result"
    }
   ],
   "source": [
    "np.linalg.norm(v[:, 0, :, :] - e_)\n",
    "np.allclose(v[:, 0, :, :],  e_)"
   ]
  },
  {
   "cell_type": "code",
   "execution_count": 33,
   "metadata": {},
   "outputs": [
    {
     "data": {
      "text/plain": [
       "array([[[0.99979573-0.02021108j, 0.99979573-0.02021108j,\n",
       "         1.        +0.j        , 0.99979573+0.02021108j,\n",
       "         0.99979573+0.02021108j, 1.        +0.j        ,\n",
       "         1.        +0.j        ],\n",
       "        [0.9998171 -0.01912772j, 0.9997765 -0.02114061j,\n",
       "         0.999998  -0.00201329j, 0.9998171 +0.01912772j,\n",
       "         0.9997765 +0.02114061j, 0.999998  +0.00201329j,\n",
       "         1.        +0.j        ]]], dtype=complex64)"
      ]
     },
     "execution_count": 33,
     "metadata": {},
     "output_type": "execute_result"
    }
   ],
   "source": [
    "v[1]"
   ]
  }
 ],
 "metadata": {
  "kernelspec": {
   "display_name": "tensorflow-gpu-p36",
   "language": "python",
   "name": "tensorflow-gpu-p36"
  },
  "language_info": {
   "codemirror_mode": {
    "name": "ipython",
    "version": 3
   },
   "file_extension": ".py",
   "mimetype": "text/x-python",
   "name": "python",
   "nbconvert_exporter": "python",
   "pygments_lexer": "ipython3",
   "version": "3.6.5"
  }
 },
 "nbformat": 4,
 "nbformat_minor": 2
}
